{
  "nbformat": 4,
  "nbformat_minor": 0,
  "metadata": {
    "colab": {
      "name": "Untitled14.ipynb",
      "provenance": []
    },
    "kernelspec": {
      "name": "python3",
      "display_name": "Python 3"
    },
    "language_info": {
      "name": "python"
    }
  },
  "cells": [
    {
      "cell_type": "code",
      "execution_count": 8,
      "metadata": {
        "colab": {
          "base_uri": "https://localhost:8080/"
        },
        "id": "hl6nkT8nOJxf",
        "outputId": "00728d4f-1b0a-4248-f9fb-06550d7435ba"
      },
      "outputs": [
        {
          "output_type": "stream",
          "name": "stdout",
          "text": [
            "hello\n",
            "15\n"
          ]
        }
      ],
      "source": [
        "print(\"hello\")\n",
        "x=lambda a:a+10\n",
        "print(x(5))"
      ]
    },
    {
      "cell_type": "code",
      "source": [
        "res=(lambda num,power:num+power)\n",
        "print(res(2,5))"
      ],
      "metadata": {
        "colab": {
          "base_uri": "https://localhost:8080/"
        },
        "id": "bUzUqg-jOS2_",
        "outputId": "436f5c3d-3215-4d4a-fbbd-29ae248e4491"
      },
      "execution_count": 9,
      "outputs": [
        {
          "output_type": "stream",
          "name": "stdout",
          "text": [
            "7\n"
          ]
        }
      ]
    },
    {
      "cell_type": "markdown",
      "source": [
        "**Filter Using Lambda** "
      ],
      "metadata": {
        "id": "u3cxNVJYQhTT"
      }
    },
    {
      "cell_type": "code",
      "source": [
        "lst=list(range(9))\n",
        "print(lst)\n",
        "\n",
        "lst1=list(filter(lambda i:i%2==0,lst))\n",
        "print(lst1)"
      ],
      "metadata": {
        "colab": {
          "base_uri": "https://localhost:8080/"
        },
        "id": "GSe_vGMnOS5x",
        "outputId": "0e2dac63-903a-457a-8020-847579e3ae38"
      },
      "execution_count": 13,
      "outputs": [
        {
          "output_type": "stream",
          "name": "stdout",
          "text": [
            "[0, 1, 2, 3, 4, 5, 6, 7, 8]\n",
            "[0, 2, 4, 6, 8]\n"
          ]
        }
      ]
    },
    {
      "cell_type": "markdown",
      "source": [
        "**Maps Using Lambda**"
      ],
      "metadata": {
        "id": "XmBDuygoQ0gy"
      }
    },
    {
      "cell_type": "code",
      "source": [
        "lst2=list(map(lambda i:i*3,lst))\n",
        "print(lst2)"
      ],
      "metadata": {
        "colab": {
          "base_uri": "https://localhost:8080/"
        },
        "id": "CG70zKnXOS9L",
        "outputId": "ae226063-2100-4dcd-8769-dd6ceb842b24"
      },
      "execution_count": 16,
      "outputs": [
        {
          "output_type": "stream",
          "name": "stdout",
          "text": [
            "[0, 3, 6, 9, 12, 15, 18, 21, 24]\n"
          ]
        }
      ]
    },
    {
      "cell_type": "markdown",
      "source": [
        "**Reduce Using Lambda**"
      ],
      "metadata": {
        "id": "gSGs25TpRNcV"
      }
    },
    {
      "cell_type": "code",
      "source": [
        "from functools import reduce\n",
        "lst3=reduce(lambda x,y:x+y,lst)\n",
        "print(lst3)"
      ],
      "metadata": {
        "colab": {
          "base_uri": "https://localhost:8080/"
        },
        "id": "RyynhkZQOS_3",
        "outputId": "c37e31fd-c69c-4a1f-d75b-86ef671611c6"
      },
      "execution_count": 17,
      "outputs": [
        {
          "output_type": "stream",
          "name": "stdout",
          "text": [
            "36\n"
          ]
        }
      ]
    },
    {
      "cell_type": "markdown",
      "source": [
        "**List Comprension**"
      ],
      "metadata": {
        "id": "To9iFBHzSiFi"
      }
    },
    {
      "cell_type": "code",
      "source": [
        "l=[1,2,3,4,5]\n",
        "l1=[i**2 for i in l]\n",
        "print(l1)"
      ],
      "metadata": {
        "colab": {
          "base_uri": "https://localhost:8080/"
        },
        "id": "dfK7VSl9OTC8",
        "outputId": "7de1c4f3-518d-48bb-ca3a-2f0475616577"
      },
      "execution_count": 18,
      "outputs": [
        {
          "output_type": "stream",
          "name": "stdout",
          "text": [
            "[1, 4, 9, 16, 25]\n"
          ]
        }
      ]
    },
    {
      "cell_type": "code",
      "source": [
        "l2=[i**2 for i in l if i%2==0]\n",
        "print(l2)"
      ],
      "metadata": {
        "colab": {
          "base_uri": "https://localhost:8080/"
        },
        "id": "K5hiateBOTFX",
        "outputId": "1c548c54-f05b-46dd-e631-80d130f2a7e5"
      },
      "execution_count": 19,
      "outputs": [
        {
          "output_type": "stream",
          "name": "stdout",
          "text": [
            "[4, 16]\n"
          ]
        }
      ]
    },
    {
      "cell_type": "code",
      "source": [
        "l3=[i**2 if i%2==0 else '*'  for i in l ]\n",
        "print(l3)"
      ],
      "metadata": {
        "colab": {
          "base_uri": "https://localhost:8080/"
        },
        "id": "Zbeky3udTHAP",
        "outputId": "c5eea731-6f60-43db-e7c1-bef21e756b45"
      },
      "execution_count": 20,
      "outputs": [
        {
          "output_type": "stream",
          "name": "stdout",
          "text": [
            "['*', 4, '*', 16, '*']\n"
          ]
        }
      ]
    },
    {
      "cell_type": "code",
      "source": [
        ""
      ],
      "metadata": {
        "id": "b3uKXr6BTHCm"
      },
      "execution_count": null,
      "outputs": []
    },
    {
      "cell_type": "code",
      "source": [
        ""
      ],
      "metadata": {
        "id": "IwuWsed9THFt"
      },
      "execution_count": null,
      "outputs": []
    },
    {
      "cell_type": "code",
      "source": [
        ""
      ],
      "metadata": {
        "id": "eq-XZOkZTHNn"
      },
      "execution_count": null,
      "outputs": []
    },
    {
      "cell_type": "code",
      "source": [
        ""
      ],
      "metadata": {
        "id": "QBFAvAtDTHQT"
      },
      "execution_count": null,
      "outputs": []
    }
  ]
}